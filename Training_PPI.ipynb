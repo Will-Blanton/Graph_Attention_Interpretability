{
 "cells": [
  {
   "cell_type": "code",
   "metadata": {
    "id": "tVe55J-aw7aC",
    "ExecuteTime": {
     "end_time": "2025-04-27T17:08:32.195067Z",
     "start_time": "2025-04-27T17:08:32.193365Z"
    }
   },
   "source": [
    "# Combining Attention values across heads - Avg\n",
    "# Combining Attention values across layers - Matrix Multiply"
   ],
   "outputs": [],
   "execution_count": 1
  },
  {
   "cell_type": "markdown",
   "metadata": {
    "id": "nRR5bUiLRZ5a"
   },
   "source": [
    "# Setup"
   ]
  },
  {
   "cell_type": "code",
   "metadata": {
    "colab": {
     "base_uri": "https://localhost:8080/"
    },
    "executionInfo": {
     "elapsed": 95820,
     "status": "ok",
     "timestamp": 1714340656785,
     "user": {
      "displayName": "Batu El",
      "userId": "11666366648103508022"
     },
     "user_tz": -60
    },
    "id": "JLx8ARPERaaB",
    "outputId": "39a34a44-a10f-4423-81a8-ca4638185152",
    "ExecuteTime": {
     "end_time": "2025-04-27T17:08:32.202680Z",
     "start_time": "2025-04-27T17:08:32.196072Z"
    }
   },
   "source": [
    "# !pip install dgl torch_geometric torch\n",
    "\n",
    "# Install required python libraries\n",
    "import os\n",
    "\n",
    "# Install PyTorch Geometric and other libraries\n",
    "# if 'IS_GRADESCOPE_ENV' not in os.environ:\n",
    "#     print(\"Installing PyTorch Geometric\")\n",
    "#     !pip install -q torch-scatter -f https://data.pyg.org/whl/torch-2.1.0+cu121.html\n",
    "#     !pip install -q torch-sparse -f https://data.pyg.org/whl/torch-2.1.0+cu121.html\n",
    "#     !pip install -q torch-geometric\n",
    "#     print(\"Installing other libraries\")\n",
    "#     !pip install networkx\n",
    "#     !pip install lovely-tensors"
   ],
   "outputs": [],
   "execution_count": 2
  },
  {
   "cell_type": "code",
   "metadata": {
    "colab": {
     "base_uri": "https://localhost:8080/"
    },
    "executionInfo": {
     "elapsed": 7222,
     "status": "ok",
     "timestamp": 1714340664004,
     "user": {
      "displayName": "Batu El",
      "userId": "11666366648103508022"
     },
     "user_tz": -60
    },
    "id": "xMiwOILkRgEP",
    "outputId": "1e83443e-9aaf-4622-b4c0-33f3f2f246dd",
    "ExecuteTime": {
     "end_time": "2025-04-27T17:08:53.336483Z",
     "start_time": "2025-04-27T17:08:32.202792Z"
    }
   },
   "source": [
    "import os\n",
    "import sys\n",
    "import time\n",
    "import math\n",
    "import random\n",
    "import itertools\n",
    "from datetime import datetime\n",
    "from typing import Mapping, Tuple, Sequence, List\n",
    "\n",
    "import pandas as pd\n",
    "import networkx as nx\n",
    "import numpy as np\n",
    "import scipy as sp\n",
    "\n",
    "from tqdm.notebook import tqdm\n",
    "\n",
    "import torch\n",
    "import torch.nn.functional as F\n",
    "from torch.nn import Embedding, Linear, ReLU, BatchNorm1d, LayerNorm, Module, ModuleList, Sequential\n",
    "from torch.nn import TransformerEncoder, TransformerEncoderLayer, MultiheadAttention\n",
    "from torch.optim import Adam\n",
    "\n",
    "import torch_geometric\n",
    "from torch_geometric.data import Data, Batch\n",
    "from torch_geometric.loader import DataLoader\n",
    "from torch_geometric.datasets import Planetoid\n",
    "\n",
    "import torch_geometric.transforms as T\n",
    "from torch_geometric.utils import remove_self_loops, dense_to_sparse, to_dense_batch, to_dense_adj\n",
    "\n",
    "from torch_geometric.nn import GCNConv, GATConv, GATv2Conv\n",
    "\n",
    "# from torch_scatter import scatter, scatter_mean, scatter_max, scatter_sum\n",
    "\n",
    "import lovely_tensors as lt\n",
    "lt.monkey_patch()\n",
    "\n",
    "import matplotlib.pyplot as plt\n",
    "import seaborn as sns\n",
    "\n",
    "# import warnings\n",
    "# warnings.filterwarnings(\"ignore\", category=RuntimeWarning)\n",
    "# warnings.filterwarnings(\"ignore\", category=UserWarning)\n",
    "# warnings.filterwarnings(\"ignore\", category=FutureWarning)\n",
    "\n",
    "print(\"All imports succeeded.\")\n",
    "print(\"Python version {}\".format(sys.version))\n",
    "print(\"PyTorch version {}\".format(torch.__version__))\n",
    "print(\"PyG version {}\".format(torch_geometric.__version__))"
   ],
   "outputs": [
    {
     "name": "stderr",
     "output_type": "stream",
     "text": [
      "D:\\PyCharmProjects\\Graph_Attention_Interpretability\\.venv\\Lib\\site-packages\\torch_geometric\\typing.py:86: UserWarning: An issue occurred while importing 'torch-scatter'. Disabling its usage. Stacktrace: [WinError 127] The specified procedure could not be found\n",
      "  warnings.warn(f\"An issue occurred while importing 'torch-scatter'. \"\n",
      "D:\\PyCharmProjects\\Graph_Attention_Interpretability\\.venv\\Lib\\site-packages\\torch_geometric\\typing.py:124: UserWarning: An issue occurred while importing 'torch-sparse'. Disabling its usage. Stacktrace: [WinError 127] The specified procedure could not be found\n",
      "  warnings.warn(f\"An issue occurred while importing 'torch-sparse'. \"\n"
     ]
    },
    {
     "name": "stdout",
     "output_type": "stream",
     "text": [
      "All imports succeeded.\n",
      "Python version 3.11.7 (tags/v3.11.7:fa7a6f2, Dec  4 2023, 19:24:49) [MSC v.1937 64 bit (AMD64)]\n",
      "PyTorch version 2.6.0+cu118\n",
      "PyG version 2.6.1\n"
     ]
    }
   ],
   "execution_count": 3
  },
  {
   "cell_type": "code",
   "metadata": {
    "colab": {
     "base_uri": "https://localhost:8080/"
    },
    "executionInfo": {
     "elapsed": 3,
     "status": "ok",
     "timestamp": 1714340664004,
     "user": {
      "displayName": "Batu El",
      "userId": "11666366648103508022"
     },
     "user_tz": -60
    },
    "id": "zuVTx4otRi6i",
    "outputId": "3413a2f1-30a2-413b-a451-9ad18d8e2eee",
    "ExecuteTime": {
     "end_time": "2025-04-27T17:08:53.490162Z",
     "start_time": "2025-04-27T17:08:53.336483Z"
    }
   },
   "source": [
    "# Set random seed for deterministic results\n",
    "\n",
    "def seed(seed=0):\n",
    "    random.seed(seed)\n",
    "    np.random.seed(seed)\n",
    "    torch.manual_seed(seed)\n",
    "    torch.cuda.manual_seed(seed)\n",
    "    torch.cuda.manual_seed_all(seed)\n",
    "    torch.backends.cudnn.deterministic = True\n",
    "    torch.backends.cudnn.benchmark = False\n",
    "\n",
    "seed(0)\n",
    "print(\"All seeds set.\")"
   ],
   "outputs": [
    {
     "name": "stdout",
     "output_type": "stream",
     "text": [
      "All seeds set.\n"
     ]
    }
   ],
   "execution_count": 4
  },
  {
   "metadata": {
    "ExecuteTime": {
     "end_time": "2025-04-27T17:08:53.493539Z",
     "start_time": "2025-04-27T17:08:53.491167Z"
    }
   },
   "cell_type": "code",
   "source": "print(\"Cuda available: {}\".format(torch.cuda.is_available()))",
   "outputs": [
    {
     "name": "stdout",
     "output_type": "stream",
     "text": [
      "Cuda available: True\n"
     ]
    }
   ],
   "execution_count": 5
  },
  {
   "cell_type": "markdown",
   "metadata": {
    "id": "g6R5GR7hRdEI"
   },
   "source": [
    "# Datasets"
   ]
  },
  {
   "metadata": {
    "ExecuteTime": {
     "end_time": "2025-04-27T17:08:58.625282Z",
     "start_time": "2025-04-27T17:08:53.493539Z"
    }
   },
   "cell_type": "code",
   "source": [
    "# use igraph because much faster than networkx\n",
    "import igraph as ig\n",
    "from tqdm import tqdm\n",
    "\n",
    "def add_position_info(dataset, pe_dim=16):\n",
    "    \n",
    "    processed_dataset = []\n",
    "    pe_transform = T.AddLaplacianEigenvectorPE(k=pe_dim, attr_name='pos_enc')\n",
    "\n",
    "    for data in tqdm(dataset, total=len(dataset), desc='Processing disjoint graphs'):\n",
    "        num_nodes = data.num_nodes\n",
    "        edge_index = data.edge_index\n",
    "\n",
    "        # Convert to igraph\n",
    "        edges = edge_index.t().tolist()\n",
    "        g = ig.Graph(n=num_nodes, edges=edges, directed=False)\n",
    "\n",
    "        # compute shortest path distances\n",
    "        sp_matrix = torch.tensor(g.distances(algorithm=\"johnson\"), dtype=torch.float16)\n",
    "        sp_matrix[torch.isinf(sp_matrix)] = 0\n",
    "        data.dense_sp_matrix = sp_matrix\n",
    "\n",
    "        dense_adj = to_dense_adj(edge_index, max_num_nodes=num_nodes)[0]\n",
    "        dense_adj = dense_adj + torch.eye(num_nodes, dtype=dense_adj.dtype)\n",
    "        dense_adj[dense_adj == 2] = 1  # remove double self-loops\n",
    "        data.dense_adj = dense_adj\n",
    "\n",
    "        # add Laplacian eigenvectors as positional encoding\n",
    "        data = pe_transform(data)\n",
    "\n",
    "        processed_dataset.append(data)\n",
    "\n",
    "    return processed_dataset"
   ],
   "outputs": [],
   "execution_count": 6
  },
  {
   "cell_type": "code",
   "metadata": {
    "colab": {
     "base_uri": "https://localhost:8080/"
    },
    "executionInfo": {
     "elapsed": 44347,
     "status": "ok",
     "timestamp": 1714340708349,
     "user": {
      "displayName": "Batu El",
      "userId": "11666366648103508022"
     },
     "user_tz": -60
    },
    "id": "8PVfelu6ReJe",
    "outputId": "f7970243-ac97-43f7-ff9b-4fea824e91fa",
    "ExecuteTime": {
     "end_time": "2025-04-27T17:09:19.543287Z",
     "start_time": "2025-04-27T17:08:58.626285Z"
    }
   },
   "source": [
    "from torch_geometric.datasets import PPI\n",
    "from torch_geometric.loader import DataLoader\n",
    "\n",
    "train = add_position_info(PPI(root='/tmp/PPI', split='train'))\n",
    "val = add_position_info(PPI(root='/tmp/PPI', split='val'))\n",
    "test = add_position_info(PPI(root='/tmp/PPI', split='test'))\n",
    "\n",
    "train = DataLoader(train, batch_size=1, shuffle=True)\n",
    "val = DataLoader(val, batch_size=1)\n",
    "test = DataLoader(test, batch_size=1)"
   ],
   "outputs": [
    {
     "name": "stderr",
     "output_type": "stream",
     "text": [
      "Processing disjoint graphs: 100%|██████████| 20/20 [00:15<00:00,  1.32it/s]\n",
      "Processing disjoint graphs: 100%|██████████| 2/2 [00:02<00:00,  1.37s/it]\n",
      "Processing disjoint graphs: 100%|██████████| 2/2 [00:01<00:00,  1.05it/s]\n"
     ]
    }
   ],
   "execution_count": 7
  },
  {
   "metadata": {
    "ExecuteTime": {
     "end_time": "2025-04-27T17:09:19.744504Z",
     "start_time": "2025-04-27T17:09:19.543362Z"
    }
   },
   "cell_type": "code",
   "source": "data = next(iter(train))",
   "outputs": [],
   "execution_count": 8
  },
  {
   "metadata": {
    "ExecuteTime": {
     "end_time": "2025-04-27T17:09:19.749218Z",
     "start_time": "2025-04-27T17:09:19.744504Z"
    }
   },
   "cell_type": "code",
   "source": [
    "ex_spd = data.dense_sp_matrix\n",
    "ex_spd.shape"
   ],
   "outputs": [
    {
     "data": {
      "text/plain": [
       "torch.Size([3021, 3021])"
      ]
     },
     "execution_count": 9,
     "metadata": {},
     "output_type": "execute_result"
    }
   ],
   "execution_count": 9
  },
  {
   "metadata": {
    "ExecuteTime": {
     "end_time": "2025-04-27T17:09:19.757634Z",
     "start_time": "2025-04-27T17:09:19.750220Z"
    }
   },
   "cell_type": "code",
   "source": [
    "tensor_memory_bytes = ex_spd.element_size() * ex_spd.numel()\n",
    "tensor_memory_MB = tensor_memory_bytes / (1024 ** 2)  # Convert to MB\n",
    "print(f\"Tensor memory usage: {tensor_memory_MB:.2f} MB\")"
   ],
   "outputs": [
    {
     "name": "stdout",
     "output_type": "stream",
     "text": [
      "Tensor memory usage: 17.41 MB\n"
     ]
    }
   ],
   "execution_count": 10
  },
  {
   "metadata": {
    "ExecuteTime": {
     "end_time": "2025-04-27T17:09:19.761413Z",
     "start_time": "2025-04-27T17:09:19.757634Z"
    }
   },
   "cell_type": "code",
   "source": "data",
   "outputs": [
    {
     "data": {
      "text/plain": [
       "DataBatch(x=[3021, 50], edge_index=[2, 91338], y=[3021, 121], dense_sp_matrix=[3021, 3021], dense_adj=[3021, 3021], pos_enc=[3021, 16], batch=[3021], ptr=[2])"
      ]
     },
     "execution_count": 11,
     "metadata": {},
     "output_type": "execute_result"
    }
   ],
   "execution_count": 11
  },
  {
   "cell_type": "markdown",
   "metadata": {
    "id": "tPGL9tFORJCQ"
   },
   "source": [
    "## Table 1: Dataset Statistics"
   ]
  },
  {
   "cell_type": "code",
   "metadata": {
    "executionInfo": {
     "elapsed": 3,
     "status": "aborted",
     "timestamp": 1714340709202,
     "user": {
      "displayName": "Batu El",
      "userId": "11666366648103508022"
     },
     "user_tz": -60
    },
    "id": "O34_wDE-RLre",
    "ExecuteTime": {
     "end_time": "2025-04-27T17:09:19.764276Z",
     "start_time": "2025-04-27T17:09:19.761413Z"
    }
   },
   "source": [
    "# ### Table 1 ###\n",
    "# ### Dataset Statistics ###\n",
    "# import dgl\n",
    "# Homophily_Levels = []\n",
    "# \n",
    "# for data in train:\n",
    "#   edge_index_tensor = torch.tensor(data.edge_index.cpu().numpy(), dtype=torch.long)\n",
    "#   g = dgl.graph((edge_index_tensor[0], edge_index_tensor[1]), num_nodes=data.x.shape[0])\n",
    "#   g.ndata['y'] = torch.tensor(data.y.cpu().numpy(), dtype=torch.long)\n",
    "#   Homophily_Levels.append({'Node Homophily':dgl.node_homophily(g, g.ndata['y'])*100,\n",
    "#                                 'Edge Homophily':dgl.edge_homophily(g, g.ndata['y'])*100,\n",
    "#                                 'Adjusted Homophily':dgl.adjusted_homophily(g, g.ndata['y'])*100,\n",
    "#                                 'Number of Nodes': int(g.num_nodes()),\n",
    "#                                 'Number of Edges': int(g.num_edges())\n",
    "#                                 })\n",
    "# df = pd.DataFrame(Homophily_Levels).round(1)\n",
    "# df"
   ],
   "outputs": [],
   "execution_count": 12
  },
  {
   "cell_type": "markdown",
   "metadata": {
    "id": "7JV4ZtidSENR"
   },
   "source": [
    "# Models"
   ]
  },
  {
   "metadata": {
    "ExecuteTime": {
     "end_time": "2025-04-27T18:31:44.238872Z",
     "start_time": "2025-04-27T18:31:44.236564Z"
    }
   },
   "cell_type": "code",
   "source": [
    "EPOCHS = 200\n",
    "HIDDEN = 512\n",
    "LR = 2e-3"
   ],
   "outputs": [],
   "execution_count": 29
  },
  {
   "cell_type": "code",
   "metadata": {
    "id": "AKL9b7tCSDDd",
    "ExecuteTime": {
     "end_time": "2025-04-27T17:27:43.324423Z",
     "start_time": "2025-04-27T17:27:43.211203Z"
    }
   },
   "source": [
    "# PyG example code: https://github.com/pyg-team/pytorch_geometric/blob/master/examples/gcn2_cora.py\n",
    "\n",
    "class GNNModel(Module):\n",
    "\n",
    "    def __init__(\n",
    "            self,\n",
    "            in_dim: int = data.x.shape[-1],\n",
    "            hidden_dim: int = HIDDEN,\n",
    "            num_heads: int = 1,\n",
    "            num_layers: int = 1,\n",
    "            out_dim: int = len(data.y.unique()),\n",
    "            dropout: float = 0.5,\n",
    "        ):\n",
    "        super().__init__()\n",
    "\n",
    "        self.lin_in = Linear(in_dim, hidden_dim)\n",
    "        self.lin_out = Linear(hidden_dim, out_dim)\n",
    "        self.layers = ModuleList()\n",
    "\n",
    "        for layer in range(num_layers):\n",
    "            self.layers.append(\n",
    "                GCNConv(hidden_dim, hidden_dim)\n",
    "            )\n",
    "        self.dropout = dropout\n",
    "\n",
    "    def forward(self, x, edge_index):\n",
    "\n",
    "        x = self.lin_in(x)\n",
    "\n",
    "        for layer in self.layers:\n",
    "            # conv -> activation ->  dropout -> residual\n",
    "            x_in = x\n",
    "            x = layer(x, edge_index)\n",
    "            x = F.relu(x)\n",
    "            x = F.dropout(x, self.dropout, training=self.training)\n",
    "            x = x_in + x\n",
    "\n",
    "        x = self.lin_out(x)\n",
    "        # return x.log_softmax(dim=-1)\n",
    "        return x\n",
    "\n",
    "\n",
    "class SparseGraphTransformerModel(Module):\n",
    "    def __init__(\n",
    "            self,\n",
    "            in_dim: int = data.x.shape[-1],\n",
    "            hidden_dim: int = HIDDEN,\n",
    "            num_heads: int = 1,\n",
    "            num_layers: int = 1,\n",
    "            out_dim: int = len(data.y.unique()),\n",
    "            dropout: float = 0.5,\n",
    "        ):\n",
    "        super().__init__()\n",
    "\n",
    "        self.lin_in = Linear(in_dim, hidden_dim)\n",
    "        self.lin_out = Linear(hidden_dim, out_dim)\n",
    "\n",
    "        self.layers = ModuleList()\n",
    "        for layer in range(num_layers):\n",
    "            self.layers.append(\n",
    "                MultiheadAttention(\n",
    "                    embed_dim = hidden_dim,\n",
    "                    num_heads = num_heads,\n",
    "                    dropout = dropout\n",
    "                )\n",
    "            )\n",
    "        self.dropout = dropout\n",
    "        self.save_attn = False\n",
    "\n",
    "    def forward(self, x, dense_adj):\n",
    "\n",
    "        x = self.lin_in(x)\n",
    "\n",
    "        self.attn_weights_list = []\n",
    "\n",
    "        for layer in self.layers:\n",
    "            x_in = x\n",
    "            x, attn_weights = layer(\n",
    "                x, x, x,\n",
    "                attn_mask = ~dense_adj.bool(),\n",
    "                average_attn_weights = True # the paper already averages so may as well just average here...\n",
    "            )\n",
    "            x = F.relu(x)\n",
    "            x = F.dropout(x, self.dropout, training=self.training)\n",
    "            x = x_in + x\n",
    "\n",
    "            if self.save_attn:\n",
    "                self.attn_weights_list.append(attn_weights)\n",
    "\n",
    "        x = self.lin_out(x)\n",
    "\n",
    "        # return x.log_softmax(dim=-1)\n",
    "        return x\n",
    "\n",
    "class DenseGraphTransformerModel(Module):\n",
    "\n",
    "    def __init__(\n",
    "            self,\n",
    "            in_dim: int = data.x.shape[-1],\n",
    "            pos_enc_dim: int = 16,\n",
    "            hidden_dim: int = HIDDEN,\n",
    "            num_heads: int = 1,\n",
    "            num_layers: int = 1,\n",
    "            out_dim: int = len(data.y.unique()),\n",
    "            dropout: float = 0.5,\n",
    "        ):\n",
    "        super().__init__()\n",
    "\n",
    "        self.lin_in = Linear(in_dim, hidden_dim)\n",
    "        self.lin_pos_enc = Linear(pos_enc_dim, hidden_dim)\n",
    "        self.lin_out = Linear(hidden_dim, out_dim)\n",
    "\n",
    "        self.layers = ModuleList()\n",
    "        for layer in range(num_layers):\n",
    "            self.layers.append(\n",
    "                MultiheadAttention(\n",
    "                    embed_dim = hidden_dim,\n",
    "                    num_heads = num_heads,\n",
    "                    dropout = dropout\n",
    "                )\n",
    "            )\n",
    "\n",
    "        self.attn_bias_scale = torch.nn.Parameter(torch.tensor([10.0]))  # controls how much we initially bias our model to nearby nodes\n",
    "        self.dropout = dropout\n",
    "        self.save_attn = False\n",
    "\n",
    "    def forward(self, x, pos_enc, dense_sp_matrix):\n",
    "\n",
    "        # x = self.lin_in(x) + self.lin_pos_enc(pos_enc)\n",
    "        x = self.lin_in(x)  # no node positional encoding\n",
    "\n",
    "        # attention bias\n",
    "        # [i, j] -> inverse of shortest path distance b/w node i and j\n",
    "        # diagonals -> self connection, set to 0\n",
    "        # disconnected nodes -> -1\n",
    "        attn_bias = self.attn_bias_scale * torch.nan_to_num(\n",
    "            (1 / (torch.nan_to_num(dense_sp_matrix, nan=-1, posinf=-1, neginf=-1))),\n",
    "            nan=0, posinf=0, neginf=0)\n",
    "        #attn_bias = torch.ones_like(attn_bias)\n",
    "\n",
    "        # TransformerEncoder\n",
    "        # x = self.encoder(x, mask = attn_bias)\n",
    "\n",
    "        self.attn_weights_list = []\n",
    "\n",
    "        for layer in self.layers:\n",
    "            # MHSA layer\n",
    "            # float mask adds learnable additive attention bias\n",
    "            x_in = x\n",
    "            x, attn_weights = layer(\n",
    "                x, x, x,\n",
    "                attn_mask = attn_bias,\n",
    "                average_attn_weights = True    # the paper already averages so may as well just average here...\n",
    "            )\n",
    "            x = F.relu(x)\n",
    "            x = F.dropout(x, self.dropout, training=self.training)\n",
    "            x = x_in + x\n",
    "\n",
    "            if self.save_attn:\n",
    "                self.attn_weights_list.append(attn_weights)\n",
    "\n",
    "        x = self.lin_out(x)\n",
    "        # return x.log_softmax(dim=-1)\n",
    "        return x\n",
    "\n",
    "\n",
    "class DenseGraphTransformerModel_V2(Module):\n",
    "    def __init__(\n",
    "            self,\n",
    "            in_dim: int = data.x.shape[-1],\n",
    "            pos_enc_dim: int = 16,\n",
    "            hidden_dim: int = HIDDEN,\n",
    "            num_heads: int = 1,\n",
    "            num_layers: int = 1,\n",
    "            out_dim: int = len(data.y.unique()),\n",
    "            dropout: float = 0.5,\n",
    "        ):\n",
    "        super().__init__()\n",
    "\n",
    "        self.lin_in = Linear(in_dim, hidden_dim)\n",
    "        self.lin_pos_enc = Linear(pos_enc_dim, hidden_dim)\n",
    "        self.lin_out = Linear(hidden_dim, out_dim)\n",
    "\n",
    "        self.layers = ModuleList()\n",
    "        for layer in range(num_layers):\n",
    "            self.layers.append(\n",
    "                MultiheadAttention(\n",
    "                    embed_dim = hidden_dim,\n",
    "                    num_heads = num_heads,\n",
    "                    dropout = dropout\n",
    "                )\n",
    "            )\n",
    "\n",
    "        self.attn_bias_scale = torch.nn.Parameter(torch.tensor([10.0]))  # controls how much we initially bias our model to nearby nodes\n",
    "        self.dropout = dropout\n",
    "        self.save_attn = False\n",
    "\n",
    "    def forward(self, x, pos_enc, dense_sp_matrix):\n",
    "\n",
    "        x = self.lin_in(x) + self.lin_pos_enc(pos_enc)\n",
    "\n",
    "        self.attn_weights_list = []\n",
    "\n",
    "        for layer in self.layers:\n",
    "\n",
    "            # MHSA layer\n",
    "            # float mask adds learnable additive attention bias\n",
    "            x_in = x\n",
    "            x, attn_weights = layer(\n",
    "                x, x, x,\n",
    "                average_attn_weights = True # the paper already averages so may as well just average here...\n",
    "            )\n",
    "            x = F.relu(x)\n",
    "            x = F.dropout(x, self.dropout, training=self.training)\n",
    "            x = x_in + x\n",
    "\n",
    "            if self.save_attn:\n",
    "                self.attn_weights_list.append(attn_weights)\n",
    "\n",
    "        x = self.lin_out(x)\n",
    "\n",
    "        # return x.log_softmax(dim=-1)\n",
    "        return x"
   ],
   "outputs": [],
   "execution_count": 15
  },
  {
   "cell_type": "markdown",
   "metadata": {
    "id": "Z39ODu9oT2f9"
   },
   "source": [
    "# Trainers"
   ]
  },
  {
   "metadata": {
    "ExecuteTime": {
     "end_time": "2025-04-27T17:27:45.300387Z",
     "start_time": "2025-04-27T17:27:43.942989Z"
    }
   },
   "cell_type": "code",
   "source": "from sklearn.metrics import f1_score",
   "outputs": [],
   "execution_count": 16
  },
  {
   "cell_type": "code",
   "metadata": {
    "id": "bgXWrDZ5V_al",
    "ExecuteTime": {
     "end_time": "2025-04-27T17:28:15.245743Z",
     "start_time": "2025-04-27T17:28:15.230373Z"
    }
   },
   "source": [
    "def Train_GCN(NUM_LAYERS, NUM_HEADS, train_loader, val_loader, test_loader):\n",
    "    device = torch.device('cuda' if torch.cuda.is_available() else 'cpu')\n",
    "\n",
    "    IN_DIM = train_loader.dataset[0].x.shape[1]\n",
    "    OUT_DIM = train_loader.dataset[0].y.shape[1]  # 121 for PPI\n",
    "\n",
    "    model = GNNModel(num_layers=NUM_LAYERS, num_heads=NUM_HEADS, in_dim=IN_DIM, out_dim=OUT_DIM).to(device)\n",
    "    optimizer = torch.optim.Adam(model.parameters(), lr=LR)\n",
    "    \n",
    "    loss_fn = torch.nn.BCEWithLogitsLoss()\n",
    "    \n",
    "    scheduler = torch.optim.lr_scheduler.StepLR(optimizer, step_size=30, gamma=.5)\n",
    "\n",
    "    def train():\n",
    "        model.train()\n",
    "        total_loss = 0\n",
    "        for batch in train_loader:\n",
    "            batch = batch.to(device)\n",
    "            optimizer.zero_grad()\n",
    "            out = model(batch.x, batch.edge_index)\n",
    "            loss = loss_fn(out, batch.y.float())  # y is multi-label\n",
    "            loss.backward()\n",
    "            optimizer.step()\n",
    "            total_loss += loss.item()\n",
    "        return total_loss / len(train_loader)\n",
    "\n",
    "    def test(loader):\n",
    "        model.eval()\n",
    "        y_true, y_pred = [], []\n",
    "        \n",
    "        for batch in loader:\n",
    "            batch = batch.to(device)\n",
    "            logits = model(batch.x, batch.edge_index)          # or …dense_adj / …spd\n",
    "            probs  = torch.sigmoid(logits)                     # convert logits → probabilities\n",
    "            preds  = (probs > 0.5).cpu().numpy().astype(int)   # threshold at 0.5\n",
    "            y_true.append(batch.y.cpu().numpy())\n",
    "            y_pred.append(preds)\n",
    "\n",
    "        y_true = np.vstack(y_true)\n",
    "        y_pred = np.vstack(y_pred)\n",
    "        micro_f1 = f1_score(y_true, y_pred, average=\"micro\")\n",
    "        return micro_f1\n",
    "\n",
    "    best_val_f1 = test_f1 = 0\n",
    "    times = []\n",
    "\n",
    "    for epoch in range(1, EPOCHS):\n",
    "        start = time.time()\n",
    "        loss = train()\n",
    "        scheduler.step()\n",
    "        train_f1 = test(train_loader)\n",
    "        val_f1 = test(val_loader)\n",
    "        tmp_test_f1 = test(test_loader)\n",
    "\n",
    "        if val_f1 > best_val_f1:\n",
    "            best_val_f1 = val_f1\n",
    "            test_f1 = tmp_test_f1\n",
    "\n",
    "        times.append(time.time() - start)\n",
    "        \n",
    "        if epoch % 10 == 0:\n",
    "            print(f'Epoch {epoch}, Loss: {loss:.4f}, Train: {train_f1:.4f}, Val: {val_f1:.4f}, Test: {test_f1:.4f}')\n",
    "\n",
    "    return {\n",
    "        'train_f1': train_f1,\n",
    "        'val_f1': val_f1,\n",
    "        'test_f1': test_f1\n",
    "    }, None\n",
    "\n",
    "\n",
    "def Train_SparseGraphTransformerModel(NUM_LAYERS, NUM_HEADS, train_loader, val_loader, test_loader):\n",
    "    device = torch.device('cuda' if torch.cuda.is_available() else 'cpu')\n",
    "\n",
    "    # Get dimensions from dataset\n",
    "    IN_DIM = train_loader.dataset[0].x.shape[1]\n",
    "    OUT_DIM = train_loader.dataset[0].y.shape[1]\n",
    "\n",
    "    model = SparseGraphTransformerModel(\n",
    "        num_layers=NUM_LAYERS,\n",
    "        num_heads=NUM_HEADS,\n",
    "        in_dim=IN_DIM,\n",
    "        out_dim=OUT_DIM\n",
    "    ).to(device)\n",
    "\n",
    "    optimizer = torch.optim.Adam(model.parameters(), lr=LR)\n",
    "    loss_fn = torch.nn.BCEWithLogitsLoss()\n",
    "    \n",
    "    scheduler = torch.optim.lr_scheduler.StepLR(optimizer, step_size=30, gamma=.5)\n",
    "\n",
    "    def train():\n",
    "        model.train()\n",
    "        total_loss = 0\n",
    "        for batch in train_loader:\n",
    "            batch = batch.to(device)\n",
    "            optimizer.zero_grad()\n",
    "            out = model(batch.x, batch.dense_adj)\n",
    "            loss = loss_fn(out, batch.y.float())\n",
    "            loss.backward()\n",
    "            optimizer.step()\n",
    "            total_loss += loss.item()\n",
    "        return total_loss / len(train_loader)\n",
    "\n",
    "    def test(loader):\n",
    "        model.eval()\n",
    "        y_true, y_pred = [], []\n",
    "\n",
    "        for batch in loader:\n",
    "            batch = batch.to(device)\n",
    "            logits = model(batch.x, batch.dense_adj)          # or …dense_adj / …spd\n",
    "            probs  = torch.sigmoid(logits)                     # convert logits → probabilities\n",
    "            preds  = (probs > 0.5).cpu().numpy().astype(int)   # threshold at 0.5\n",
    "            y_true.append(batch.y.cpu().numpy())\n",
    "            y_pred.append(preds)\n",
    "\n",
    "        y_true = np.vstack(y_true)\n",
    "        y_pred = np.vstack(y_pred)\n",
    "        micro_f1 = f1_score(y_true, y_pred, average=\"micro\")\n",
    "        return micro_f1\n",
    "\n",
    "    best_val_f1 = test_f1 = 0\n",
    "    times = []\n",
    "\n",
    "    for epoch in range(1, EPOCHS):\n",
    "        start = time.time()\n",
    "        loss = train()\n",
    "        scheduler.step()\n",
    "        train_f1 = test(train_loader)\n",
    "        val_f1 = test(val_loader)\n",
    "        tmp_test_f1 = test(test_loader)\n",
    "\n",
    "        if val_f1 > best_val_f1:\n",
    "            best_val_f1 = val_f1\n",
    "            test_f1 = tmp_test_f1\n",
    "\n",
    "        times.append(time.time() - start)\n",
    "\n",
    "        if epoch % 10 == 0:\n",
    "            print(f'Epoch {epoch}, Loss: {loss:.4f}, Train: {train_f1:.4f}, Val: {val_f1:.4f}, Test: {test_f1:.4f}')\n",
    "\n",
    "    return {\n",
    "        'train_f1': train_f1,\n",
    "        'val_f1': val_f1,\n",
    "        'test_f1': test_f1\n",
    "    }, model.cpu()\n",
    "\n",
    "def Train_DenseGraphTransformerModel(NUM_LAYERS, NUM_HEADS, train_loader, val_loader, test_loader):\n",
    "    device = torch.device('cuda' if torch.cuda.is_available() else 'cpu')\n",
    "\n",
    "    IN_DIM = train_loader.dataset[0].x.shape[1]\n",
    "    OUT_DIM = train_loader.dataset[0].y.shape[1]\n",
    "\n",
    "    model = DenseGraphTransformerModel(\n",
    "        num_layers=NUM_LAYERS,\n",
    "        num_heads=NUM_HEADS,\n",
    "        in_dim=IN_DIM,\n",
    "        out_dim=OUT_DIM\n",
    "    ).to(device)\n",
    "\n",
    "    optimizer = torch.optim.Adam(model.parameters(), lr=LR)\n",
    "    loss_fn = torch.nn.BCEWithLogitsLoss()\n",
    "\n",
    "    scheduler = torch.optim.lr_scheduler.StepLR(optimizer, step_size=30, gamma=.5)\n",
    "    \n",
    "    def train():\n",
    "        model.train()\n",
    "        total_loss = 0\n",
    "        for batch in train_loader:\n",
    "            batch = batch.to(device)\n",
    "            optimizer.zero_grad()\n",
    "            out = model(batch.x, batch.pos_enc, batch.dense_sp_matrix)  # batch.spd is dense_sp_matrix\n",
    "            loss = loss_fn(out, batch.y.float())\n",
    "            loss.backward()\n",
    "            optimizer.step()\n",
    "            total_loss += loss.item()\n",
    "        return total_loss / len(train_loader)\n",
    "\n",
    "    def test(loader):\n",
    "        model.eval()\n",
    "        y_true, y_pred = [], []\n",
    "\n",
    "        for batch in loader:\n",
    "            batch = batch.to(device)\n",
    "            logits = model(batch.x, batch.pos_enc, batch.dense_sp_matrix)          # or …dense_adj / …spd\n",
    "            probs  = torch.sigmoid(logits)                     # convert logits → probabilities\n",
    "            preds  = (probs > 0.5).cpu().numpy().astype(int)   # threshold at 0.5\n",
    "            y_true.append(batch.y.cpu().numpy())\n",
    "            y_pred.append(preds)\n",
    "\n",
    "        y_true = np.vstack(y_true)\n",
    "        y_pred = np.vstack(y_pred)\n",
    "        micro_f1 = f1_score(y_true, y_pred, average=\"micro\")\n",
    "        return micro_f1\n",
    "\n",
    "    best_val_f1 = test_f1 = 0\n",
    "    times = []\n",
    "\n",
    "    for epoch in range(1, EPOCHS):\n",
    "        start = time.time()\n",
    "        loss = train()\n",
    "        scheduler.step()\n",
    "        train_f1 = test(train_loader)\n",
    "        val_f1 = test(val_loader)\n",
    "        tmp_test_f1 = test(test_loader)\n",
    "\n",
    "        if val_f1 > best_val_f1:\n",
    "            best_val_f1 = val_f1\n",
    "            test_f1 = tmp_test_f1\n",
    "\n",
    "        times.append(time.time() - start)\n",
    "\n",
    "        if epoch % 10 == 0:\n",
    "            print(f'Epoch {epoch}, Loss: {loss:.4f}, Train: {train_f1:.4f}, Val: {val_f1:.4f}, Test: {test_f1:.4f}')\n",
    "\n",
    "    return {\n",
    "        'train_f1': train_f1,\n",
    "        'val_f1': val_f1,\n",
    "        'test_f1': test_f1\n",
    "    }, model.cpu()\n",
    "    \n",
    "    # Notes\n",
    "    # - Dense Transformer needs to be trained for a bit longer to reach low loss value\n",
    "    # - Node positional encodings are not particularly useful\n",
    "    # - Edge distance encodings are very useful\n",
    "    # - Since Cora is highly homophilic, it is important to bias the attention towards nearby nodes\n",
    "\n",
    "def Train_DenseGraphTransformerModel_V2(NUM_LAYERS, NUM_HEADS, train_loader, val_loader, test_loader):\n",
    "    device = torch.device('cuda' if torch.cuda.is_available() else 'cpu')\n",
    "\n",
    "    IN_DIM = train_loader.dataset[0].x.shape[1]\n",
    "    OUT_DIM = train_loader.dataset[0].y.shape[1]\n",
    "\n",
    "    model = DenseGraphTransformerModel_V2(\n",
    "        num_layers=NUM_LAYERS,\n",
    "        num_heads=NUM_HEADS,\n",
    "        in_dim=IN_DIM,\n",
    "        out_dim=OUT_DIM\n",
    "    ).to(device)\n",
    "\n",
    "    optimizer = torch.optim.Adam(model.parameters(), lr=LR)\n",
    "    loss_fn = torch.nn.BCEWithLogitsLoss()\n",
    "\n",
    "    scheduler = torch.optim.lr_scheduler.StepLR(optimizer, step_size=30, gamma=.5)\n",
    "    \n",
    "    def train():\n",
    "        model.train()\n",
    "        total_loss = 0\n",
    "        for batch in train_loader:\n",
    "            batch = batch.to(device)\n",
    "            optimizer.zero_grad()\n",
    "            out = model(batch.x, batch.pos_enc, batch.dense_sp_matrix)  # batch.spd is dense_sp_matrix\n",
    "            loss = loss_fn(out, batch.y.float())\n",
    "            loss.backward()\n",
    "            optimizer.step()\n",
    "            total_loss += loss.item()\n",
    "        return total_loss / len(train_loader)\n",
    "\n",
    "    def test(loader):\n",
    "        model.eval()\n",
    "        y_true, y_pred = [], []\n",
    "\n",
    "        for batch in loader:\n",
    "            batch = batch.to(device)\n",
    "            logits = model(batch.x, batch.pos_enc, batch.dense_sp_matrix)          # or …dense_adj / …spd\n",
    "            probs  = torch.sigmoid(logits)                     # convert logits → probabilities\n",
    "            preds  = (probs > 0.5).cpu().numpy().astype(int)   # threshold at 0.5\n",
    "            y_true.append(batch.y.cpu().numpy())\n",
    "            y_pred.append(preds)\n",
    "\n",
    "        y_true = np.vstack(y_true)\n",
    "        y_pred = np.vstack(y_pred)\n",
    "        micro_f1 = f1_score(y_true, y_pred, average=\"micro\")\n",
    "        return micro_f1\n",
    "\n",
    "    best_val_f1 = test_f1 = 0\n",
    "    times = []\n",
    "\n",
    "    for epoch in range(1, EPOCHS):\n",
    "        start = time.time()\n",
    "        loss = train()\n",
    "        scheduler.step()\n",
    "        train_f1 = test(train_loader)\n",
    "        val_f1 = test(val_loader)\n",
    "        tmp_test_f1 = test(test_loader)\n",
    "\n",
    "        if val_f1 > best_val_f1:\n",
    "            best_val_f1 = val_f1\n",
    "            test_f1 = tmp_test_f1\n",
    "\n",
    "        times.append(time.time() - start)\n",
    "\n",
    "        if epoch % 10 == 0:\n",
    "            print(f'Epoch {epoch}, Loss: {loss:.4f}, Train: {train_f1:.4f}, Val: {val_f1:.4f}, Test: {test_f1:.4f}')\n",
    "\n",
    "    return {\n",
    "        'train_f1': train_f1,\n",
    "        'val_f1': val_f1,\n",
    "        'test_f1': test_f1\n",
    "    }, model.cpu()  # if model tracks attention weights\n",
    "# Training"
   ],
   "outputs": [],
   "execution_count": 20
  },
  {
   "cell_type": "markdown",
   "metadata": {
    "id": "X3wGJPl3YJcd"
   },
   "source": "## Training"
  },
  {
   "metadata": {},
   "cell_type": "markdown",
   "source": [
    "In original paper, the models are re-trained across multiple runs with varying train/test splits. The attention weights are then averaged across runs to get a more robust attention representation that is less affected by train/test splits. \n",
    "\n",
    "However, in the inductive setting (20 different graphs), the analysis would need to be averaged for each graph separately, making this computationally expensive.\n",
    "\n",
    "Additionally, in the inductive setting, the model may be intrinsically more stable (relative to train/test splits) due to generalizing across multiple graphs.\n",
    "\n",
    "Therefore, we only train a single model for this task and analyze each graph-model combination separately."
   ]
  },
  {
   "metadata": {
    "ExecuteTime": {
     "end_time": "2025-04-28T03:33:45.368617Z",
     "start_time": "2025-04-28T02:59:53.810545Z"
    }
   },
   "cell_type": "code",
   "source": [
    "NUM_LAYERS = 4\n",
    "NUM_HEADS = 4\n",
    "\n",
    "accuracy_statistics = {}\n",
    "models = {}\n",
    "\n",
    "# Train all models with the same loaders\n",
    "accuracy_statistics['GCN'], _ = Train_GCN(NUM_LAYERS, NUM_HEADS, train, val, test)\n",
    "accuracy_statistics['SparseGraphTransformerModel'], models['SparseGraphTransformerModel'] = Train_SparseGraphTransformerModel(NUM_LAYERS, NUM_HEADS, train, val, test)\n",
    "accuracy_statistics['DenseGraphTransformerModel'], models['DenseGraphTransformerModel'] = Train_DenseGraphTransformerModel(NUM_LAYERS, NUM_HEADS, train, val, test)\n",
    "accuracy_statistics['DenseGraphTransformerModel_V2'], models['DenseGraphTransformerModel_V2'] = Train_DenseGraphTransformerModel_V2(NUM_LAYERS, NUM_HEADS, train, val, test)\n",
    "\n",
    "accuracy_statistics"
   ],
   "outputs": [
    {
     "name": "stdout",
     "output_type": "stream",
     "text": [
      "Epoch 10, Loss: 0.4186, Train: 0.6808, Val: 0.6504, Test: 0.6691\n",
      "Epoch 20, Loss: 0.3553, Train: 0.7544, Val: 0.7126, Test: 0.7420\n",
      "Epoch 30, Loss: 0.3202, Train: 0.8127, Val: 0.7689, Test: 0.7962\n",
      "Epoch 40, Loss: 0.2975, Train: 0.8347, Val: 0.7899, Test: 0.8176\n",
      "Epoch 50, Loss: 0.2873, Train: 0.8469, Val: 0.8029, Test: 0.8308\n",
      "Epoch 60, Loss: 0.2784, Train: 0.8574, Val: 0.8135, Test: 0.8415\n",
      "Epoch 70, Loss: 0.2691, Train: 0.8659, Val: 0.8215, Test: 0.8494\n",
      "Epoch 80, Loss: 0.2663, Train: 0.8694, Val: 0.8253, Test: 0.8533\n",
      "Epoch 90, Loss: 0.2624, Train: 0.8746, Val: 0.8304, Test: 0.8582\n",
      "Epoch 100, Loss: 0.2577, Train: 0.8771, Val: 0.8332, Test: 0.8603\n",
      "Epoch 110, Loss: 0.2564, Train: 0.8799, Val: 0.8364, Test: 0.8635\n",
      "Epoch 120, Loss: 0.2550, Train: 0.8811, Val: 0.8371, Test: 0.8644\n",
      "Epoch 130, Loss: 0.2531, Train: 0.8819, Val: 0.8373, Test: 0.8654\n",
      "Epoch 140, Loss: 0.2519, Train: 0.8822, Val: 0.8373, Test: 0.8672\n",
      "Epoch 150, Loss: 0.2509, Train: 0.8839, Val: 0.8396, Test: 0.8675\n",
      "Epoch 160, Loss: 0.2500, Train: 0.8851, Val: 0.8409, Test: 0.8684\n",
      "Epoch 170, Loss: 0.2500, Train: 0.8850, Val: 0.8408, Test: 0.8683\n",
      "Epoch 180, Loss: 0.2497, Train: 0.8855, Val: 0.8411, Test: 0.8688\n",
      "Epoch 190, Loss: 0.2486, Train: 0.8859, Val: 0.8418, Test: 0.8694\n",
      "Epoch 10, Loss: 0.4284, Train: 0.7023, Val: 0.6764, Test: 0.6911\n",
      "Epoch 20, Loss: 0.3988, Train: 0.7521, Val: 0.7207, Test: 0.7387\n",
      "Epoch 30, Loss: 0.3844, Train: 0.7670, Val: 0.7342, Test: 0.7576\n",
      "Epoch 40, Loss: 0.3461, Train: 0.8101, Val: 0.7769, Test: 0.8000\n",
      "Epoch 50, Loss: 0.3350, Train: 0.8273, Val: 0.7934, Test: 0.8149\n",
      "Epoch 60, Loss: 0.3280, Train: 0.8355, Val: 0.8009, Test: 0.8241\n",
      "Epoch 70, Loss: 0.3085, Train: 0.8532, Val: 0.8189, Test: 0.8410\n",
      "Epoch 80, Loss: 0.3012, Train: 0.8591, Val: 0.8246, Test: 0.8487\n",
      "Epoch 90, Loss: 0.2962, Train: 0.8660, Val: 0.8317, Test: 0.8533\n",
      "Epoch 100, Loss: 0.2881, Train: 0.8729, Val: 0.8390, Test: 0.8601\n",
      "Epoch 110, Loss: 0.2842, Train: 0.8759, Val: 0.8423, Test: 0.8635\n",
      "Epoch 120, Loss: 0.2816, Train: 0.8786, Val: 0.8444, Test: 0.8679\n",
      "Epoch 130, Loss: 0.2770, Train: 0.8819, Val: 0.8481, Test: 0.8702\n",
      "Epoch 140, Loss: 0.2745, Train: 0.8839, Val: 0.8502, Test: 0.8716\n",
      "Epoch 150, Loss: 0.2727, Train: 0.8860, Val: 0.8529, Test: 0.8738\n",
      "Epoch 160, Loss: 0.2713, Train: 0.8869, Val: 0.8535, Test: 0.8749\n",
      "Epoch 170, Loss: 0.2702, Train: 0.8877, Val: 0.8540, Test: 0.8762\n",
      "Epoch 180, Loss: 0.2691, Train: 0.8886, Val: 0.8551, Test: 0.8771\n",
      "Epoch 190, Loss: 0.2682, Train: 0.8897, Val: 0.8564, Test: 0.8777\n",
      "Epoch 10, Loss: 0.4705, Train: 0.6376, Val: 0.6069, Test: 0.6295\n",
      "Epoch 20, Loss: 0.4115, Train: 0.7185, Val: 0.6846, Test: 0.7021\n",
      "Epoch 30, Loss: 0.3916, Train: 0.7271, Val: 0.6880, Test: 0.7319\n",
      "Epoch 40, Loss: 0.3502, Train: 0.8009, Val: 0.7654, Test: 0.7863\n",
      "Epoch 50, Loss: 0.3381, Train: 0.8106, Val: 0.7737, Test: 0.7954\n",
      "Epoch 60, Loss: 0.3259, Train: 0.8221, Val: 0.7822, Test: 0.8149\n",
      "Epoch 70, Loss: 0.3067, Train: 0.8434, Val: 0.8061, Test: 0.8282\n",
      "Epoch 80, Loss: 0.2998, Train: 0.8508, Val: 0.8113, Test: 0.8340\n",
      "Epoch 90, Loss: 0.2919, Train: 0.8588, Val: 0.8191, Test: 0.8445\n",
      "Epoch 100, Loss: 0.2830, Train: 0.8650, Val: 0.8259, Test: 0.8500\n",
      "Epoch 110, Loss: 0.2793, Train: 0.8706, Val: 0.8323, Test: 0.8555\n",
      "Epoch 120, Loss: 0.2743, Train: 0.8726, Val: 0.8341, Test: 0.8592\n",
      "Epoch 130, Loss: 0.2713, Train: 0.8771, Val: 0.8387, Test: 0.8622\n",
      "Epoch 140, Loss: 0.2679, Train: 0.8765, Val: 0.8375, Test: 0.8639\n",
      "Epoch 150, Loss: 0.2672, Train: 0.8813, Val: 0.8426, Test: 0.8677\n",
      "Epoch 160, Loss: 0.2651, Train: 0.8831, Val: 0.8448, Test: 0.8679\n",
      "Epoch 170, Loss: 0.2633, Train: 0.8842, Val: 0.8456, Test: 0.8701\n",
      "Epoch 180, Loss: 0.2625, Train: 0.8838, Val: 0.8450, Test: 0.8700\n",
      "Epoch 190, Loss: 0.2617, Train: 0.8854, Val: 0.8471, Test: 0.8707\n",
      "Epoch 10, Loss: 0.5260, Train: 0.4833, Val: 0.4737, Test: 0.4789\n",
      "Epoch 20, Loss: 0.5181, Train: 0.4900, Val: 0.4791, Test: 0.5016\n",
      "Epoch 30, Loss: 0.5089, Train: 0.5067, Val: 0.4941, Test: 0.5036\n",
      "Epoch 40, Loss: 0.4989, Train: 0.5094, Val: 0.4956, Test: 0.5180\n",
      "Epoch 50, Loss: 0.4955, Train: 0.5215, Val: 0.5065, Test: 0.5235\n",
      "Epoch 60, Loss: 0.4959, Train: 0.5224, Val: 0.5078, Test: 0.5272\n",
      "Epoch 70, Loss: 0.4888, Train: 0.5272, Val: 0.5118, Test: 0.5291\n",
      "Epoch 80, Loss: 0.4875, Train: 0.5361, Val: 0.5206, Test: 0.5293\n",
      "Epoch 90, Loss: 0.4847, Train: 0.5355, Val: 0.5198, Test: 0.5332\n",
      "Epoch 100, Loss: 0.4821, Train: 0.5389, Val: 0.5233, Test: 0.5337\n",
      "Epoch 110, Loss: 0.4806, Train: 0.5392, Val: 0.5239, Test: 0.5342\n",
      "Epoch 120, Loss: 0.4801, Train: 0.5402, Val: 0.5251, Test: 0.5357\n",
      "Epoch 130, Loss: 0.4793, Train: 0.5433, Val: 0.5281, Test: 0.5366\n",
      "Epoch 140, Loss: 0.4785, Train: 0.5434, Val: 0.5286, Test: 0.5369\n",
      "Epoch 150, Loss: 0.4786, Train: 0.5442, Val: 0.5291, Test: 0.5376\n",
      "Epoch 160, Loss: 0.4781, Train: 0.5428, Val: 0.5282, Test: 0.5376\n",
      "Epoch 170, Loss: 0.4776, Train: 0.5429, Val: 0.5283, Test: 0.5376\n",
      "Epoch 180, Loss: 0.4774, Train: 0.5429, Val: 0.5283, Test: 0.5376\n",
      "Epoch 190, Loss: 0.4767, Train: 0.5414, Val: 0.5270, Test: 0.5376\n"
     ]
    },
    {
     "data": {
      "text/plain": [
       "{'GCN': {'train_f1': 0.8859265045934629,\n",
       "  'val_f1': 0.8416800630274105,\n",
       "  'test_f1': 0.8694772608468374},\n",
       " 'SparseGraphTransformerModel': {'train_f1': 0.8902466071261015,\n",
       "  'val_f1': 0.8568108683953302,\n",
       "  'test_f1': 0.878134905895582},\n",
       " 'DenseGraphTransformerModel': {'train_f1': 0.886219759020709,\n",
       "  'val_f1': 0.8477365145694322,\n",
       "  'test_f1': 0.8716827085902498},\n",
       " 'DenseGraphTransformerModel_V2': {'train_f1': 0.5428683731570324,\n",
       "  'val_f1': 0.5283488693599373,\n",
       "  'test_f1': 0.5375886878561542}}"
      ]
     },
     "execution_count": 38,
     "metadata": {},
     "output_type": "execute_result"
    }
   ],
   "execution_count": 38
  },
  {
   "metadata": {
    "ExecuteTime": {
     "end_time": "2025-04-27T19:10:40.887945Z",
     "start_time": "2025-04-27T18:31:59.809838Z"
    }
   },
   "cell_type": "code",
   "source": [
    "NUM_LAYERS = 3\n",
    "NUM_HEADS = 8\n",
    "\n",
    "accuracy_statistics2 = {}\n",
    "models2 = {}\n",
    "\n",
    "# Train all models with the same loaders\n",
    "accuracy_statistics2['GCN'], _ = Train_GCN(NUM_LAYERS, NUM_HEADS, train, val, test)\n",
    "accuracy_statistics2['SparseGraphTransformerModel'], models2['SparseGraphTransformerModel'] = Train_SparseGraphTransformerModel(NUM_LAYERS, NUM_HEADS, train, val, test)\n",
    "accuracy_statistics2['DenseGraphTransformerModel'], models2['DenseGraphTransformerModel'] = Train_DenseGraphTransformerModel(NUM_LAYERS, NUM_HEADS, train, val, test)\n",
    "accuracy_statistics2['DenseGraphTransformerModel_V2'], models2['DenseGraphTransformerModel_V2'] = Train_DenseGraphTransformerModel_V2(NUM_LAYERS, NUM_HEADS, train, val, test)\n",
    "\n",
    "accuracy_statistics2"
   ],
   "outputs": [
    {
     "name": "stdout",
     "output_type": "stream",
     "text": [
      "Epoch 10, Loss: 0.4284, Train: 0.6545, Val: 0.6257, Test: 0.6459\n",
      "Epoch 20, Loss: 0.3722, Train: 0.7395, Val: 0.6999, Test: 0.7248\n",
      "Epoch 30, Loss: 0.3440, Train: 0.7877, Val: 0.7448, Test: 0.7732\n",
      "Epoch 40, Loss: 0.3253, Train: 0.8071, Val: 0.7642, Test: 0.7919\n",
      "Epoch 50, Loss: 0.3154, Train: 0.8168, Val: 0.7724, Test: 0.8049\n",
      "Epoch 60, Loss: 0.3097, Train: 0.8275, Val: 0.7836, Test: 0.8114\n",
      "Epoch 70, Loss: 0.3018, Train: 0.8344, Val: 0.7899, Test: 0.8196\n",
      "Epoch 80, Loss: 0.2973, Train: 0.8389, Val: 0.7933, Test: 0.8249\n",
      "Epoch 90, Loss: 0.2937, Train: 0.8430, Val: 0.7981, Test: 0.8264\n",
      "Epoch 100, Loss: 0.2912, Train: 0.8452, Val: 0.7997, Test: 0.8306\n",
      "Epoch 110, Loss: 0.2888, Train: 0.8495, Val: 0.8048, Test: 0.8327\n",
      "Epoch 120, Loss: 0.2879, Train: 0.8507, Val: 0.8062, Test: 0.8339\n",
      "Epoch 130, Loss: 0.2869, Train: 0.8511, Val: 0.8066, Test: 0.8343\n",
      "Epoch 140, Loss: 0.2854, Train: 0.8520, Val: 0.8070, Test: 0.8354\n",
      "Epoch 150, Loss: 0.2843, Train: 0.8516, Val: 0.8061, Test: 0.8361\n",
      "Epoch 160, Loss: 0.2828, Train: 0.8540, Val: 0.8095, Test: 0.8369\n",
      "Epoch 170, Loss: 0.2823, Train: 0.8546, Val: 0.8097, Test: 0.8375\n",
      "Epoch 180, Loss: 0.2825, Train: 0.8550, Val: 0.8103, Test: 0.8378\n",
      "Epoch 190, Loss: 0.2830, Train: 0.8550, Val: 0.8101, Test: 0.8378\n",
      "Epoch 10, Loss: 0.4000, Train: 0.7437, Val: 0.7152, Test: 0.7322\n",
      "Epoch 20, Loss: 0.3645, Train: 0.7930, Val: 0.7603, Test: 0.7806\n",
      "Epoch 30, Loss: 0.3439, Train: 0.8138, Val: 0.7753, Test: 0.8031\n",
      "Epoch 40, Loss: 0.3060, Train: 0.8517, Val: 0.8170, Test: 0.8394\n",
      "Epoch 50, Loss: 0.2920, Train: 0.8677, Val: 0.8328, Test: 0.8552\n",
      "Epoch 60, Loss: 0.2854, Train: 0.8761, Val: 0.8404, Test: 0.8634\n",
      "Epoch 70, Loss: 0.2670, Train: 0.8888, Val: 0.8542, Test: 0.8763\n",
      "Epoch 80, Loss: 0.2606, Train: 0.8952, Val: 0.8608, Test: 0.8830\n",
      "Epoch 90, Loss: 0.2551, Train: 0.9001, Val: 0.8658, Test: 0.8881\n",
      "Epoch 100, Loss: 0.2466, Train: 0.9032, Val: 0.8687, Test: 0.8918\n",
      "Epoch 110, Loss: 0.2439, Train: 0.9062, Val: 0.8723, Test: 0.8940\n",
      "Epoch 120, Loss: 0.2407, Train: 0.9098, Val: 0.8761, Test: 0.8977\n",
      "Epoch 130, Loss: 0.2368, Train: 0.9108, Val: 0.8768, Test: 0.8993\n",
      "Epoch 140, Loss: 0.2346, Train: 0.9124, Val: 0.8787, Test: 0.9004\n",
      "Epoch 150, Loss: 0.2342, Train: 0.9139, Val: 0.8802, Test: 0.9018\n",
      "Epoch 160, Loss: 0.2325, Train: 0.9148, Val: 0.8813, Test: 0.9028\n",
      "Epoch 170, Loss: 0.2304, Train: 0.9152, Val: 0.8818, Test: 0.9035\n",
      "Epoch 180, Loss: 0.2310, Train: 0.9157, Val: 0.8822, Test: 0.9041\n",
      "Epoch 190, Loss: 0.2303, Train: 0.9164, Val: 0.8830, Test: 0.9045\n",
      "Epoch 10, Loss: 0.4171, Train: 0.6977, Val: 0.6637, Test: 0.6887\n",
      "Epoch 20, Loss: 0.3665, Train: 0.7778, Val: 0.7372, Test: 0.7613\n",
      "Epoch 30, Loss: 0.3347, Train: 0.8148, Val: 0.7735, Test: 0.8038\n",
      "Epoch 40, Loss: 0.2939, Train: 0.8551, Val: 0.8152, Test: 0.8383\n",
      "Epoch 50, Loss: 0.2834, Train: 0.8684, Val: 0.8307, Test: 0.8567\n",
      "Epoch 60, Loss: 0.2777, Train: 0.8795, Val: 0.8405, Test: 0.8633\n",
      "Epoch 70, Loss: 0.2570, Train: 0.8925, Val: 0.8559, Test: 0.8778\n",
      "Epoch 80, Loss: 0.2511, Train: 0.8978, Val: 0.8611, Test: 0.8835\n",
      "Epoch 90, Loss: 0.2439, Train: 0.9038, Val: 0.8675, Test: 0.8893\n",
      "Epoch 100, Loss: 0.2355, Train: 0.9079, Val: 0.8716, Test: 0.8936\n",
      "Epoch 110, Loss: 0.2325, Train: 0.9110, Val: 0.8752, Test: 0.8966\n",
      "Epoch 120, Loss: 0.2300, Train: 0.9140, Val: 0.8788, Test: 0.9002\n",
      "Epoch 130, Loss: 0.2256, Train: 0.9157, Val: 0.8808, Test: 0.9019\n",
      "Epoch 140, Loss: 0.2245, Train: 0.9168, Val: 0.8818, Test: 0.9029\n",
      "Epoch 150, Loss: 0.2219, Train: 0.9179, Val: 0.8824, Test: 0.9040\n",
      "Epoch 160, Loss: 0.2217, Train: 0.9196, Val: 0.8850, Test: 0.9060\n",
      "Epoch 170, Loss: 0.2199, Train: 0.9200, Val: 0.8852, Test: 0.9063\n",
      "Epoch 180, Loss: 0.2193, Train: 0.9201, Val: 0.8850, Test: 0.9065\n",
      "Epoch 190, Loss: 0.2175, Train: 0.9204, Val: 0.8852, Test: 0.9070\n",
      "Epoch 10, Loss: 0.5229, Train: 0.4637, Val: 0.4543, Test: 0.4909\n",
      "Epoch 20, Loss: 0.5083, Train: 0.5062, Val: 0.4927, Test: 0.5096\n",
      "Epoch 30, Loss: 0.5053, Train: 0.4999, Val: 0.4866, Test: 0.5150\n",
      "Epoch 40, Loss: 0.4911, Train: 0.5167, Val: 0.5021, Test: 0.5290\n",
      "Epoch 50, Loss: 0.4886, Train: 0.5206, Val: 0.5057, Test: 0.5341\n",
      "Epoch 60, Loss: 0.4875, Train: 0.5339, Val: 0.5197, Test: 0.5352\n",
      "Epoch 70, Loss: 0.4817, Train: 0.5407, Val: 0.5259, Test: 0.5370\n",
      "Epoch 80, Loss: 0.4796, Train: 0.5407, Val: 0.5265, Test: 0.5374\n",
      "Epoch 90, Loss: 0.4788, Train: 0.5324, Val: 0.5183, Test: 0.5384\n",
      "Epoch 100, Loss: 0.4770, Train: 0.5425, Val: 0.5284, Test: 0.5384\n",
      "Epoch 110, Loss: 0.4768, Train: 0.5410, Val: 0.5276, Test: 0.5384\n",
      "Epoch 120, Loss: 0.4763, Train: 0.5421, Val: 0.5283, Test: 0.5398\n",
      "Epoch 130, Loss: 0.4755, Train: 0.5430, Val: 0.5291, Test: 0.5398\n",
      "Epoch 140, Loss: 0.4755, Train: 0.5451, Val: 0.5310, Test: 0.5398\n",
      "Epoch 150, Loss: 0.4750, Train: 0.5445, Val: 0.5304, Test: 0.5398\n",
      "Epoch 160, Loss: 0.4747, Train: 0.5442, Val: 0.5305, Test: 0.5398\n",
      "Epoch 170, Loss: 0.4745, Train: 0.5454, Val: 0.5316, Test: 0.5398\n",
      "Epoch 180, Loss: 0.4750, Train: 0.5448, Val: 0.5310, Test: 0.5398\n",
      "Epoch 190, Loss: 0.4745, Train: 0.5441, Val: 0.5302, Test: 0.5398\n"
     ]
    },
    {
     "data": {
      "text/plain": [
       "{'GCN': {'train_f1': 0.8552367480600795,\n",
       "  'val_f1': 0.8103124466450401,\n",
       "  'test_f1': 0.8385251146140138},\n",
       " 'SparseGraphTransformerModel': {'train_f1': 0.9168029415358827,\n",
       "  'val_f1': 0.8833965773971975,\n",
       "  'test_f1': 0.904935296606841},\n",
       " 'DenseGraphTransformerModel': {'train_f1': 0.9208205625138044,\n",
       "  'val_f1': 0.8855508027331815,\n",
       "  'test_f1': 0.9073442794383756},\n",
       " 'DenseGraphTransformerModel_V2': {'train_f1': 0.545030697677233,\n",
       "  'val_f1': 0.5311260134552355,\n",
       "  'test_f1': 0.5397821269157537}}"
      ]
     },
     "execution_count": 30,
     "metadata": {},
     "output_type": "execute_result"
    }
   ],
   "execution_count": 30
  },
  {
   "metadata": {},
   "cell_type": "markdown",
   "source": "## Table 2: Accuracy Statistics"
  },
  {
   "metadata": {
    "ExecuteTime": {
     "end_time": "2025-04-28T03:56:55.037999Z",
     "start_time": "2025-04-28T03:56:55.031141Z"
    }
   },
   "cell_type": "code",
   "source": [
    "### Table 2 ###\n",
    "### Accuracy Statistics ###\n",
    "all_stats_df = pd.DataFrame(accuracy_statistics).T.round(2)\n",
    "all_stats_df"
   ],
   "outputs": [
    {
     "data": {
      "text/plain": [
       "                               train_f1  val_f1  test_f1\n",
       "GCN                                0.89    0.84     0.87\n",
       "SparseGraphTransformerModel        0.89    0.86     0.88\n",
       "DenseGraphTransformerModel         0.89    0.85     0.87\n",
       "DenseGraphTransformerModel_V2      0.54    0.53     0.54"
      ],
      "text/html": [
       "<div>\n",
       "<style scoped>\n",
       "    .dataframe tbody tr th:only-of-type {\n",
       "        vertical-align: middle;\n",
       "    }\n",
       "\n",
       "    .dataframe tbody tr th {\n",
       "        vertical-align: top;\n",
       "    }\n",
       "\n",
       "    .dataframe thead th {\n",
       "        text-align: right;\n",
       "    }\n",
       "</style>\n",
       "<table border=\"1\" class=\"dataframe\">\n",
       "  <thead>\n",
       "    <tr style=\"text-align: right;\">\n",
       "      <th></th>\n",
       "      <th>train_f1</th>\n",
       "      <th>val_f1</th>\n",
       "      <th>test_f1</th>\n",
       "    </tr>\n",
       "  </thead>\n",
       "  <tbody>\n",
       "    <tr>\n",
       "      <th>GCN</th>\n",
       "      <td>0.89</td>\n",
       "      <td>0.84</td>\n",
       "      <td>0.87</td>\n",
       "    </tr>\n",
       "    <tr>\n",
       "      <th>SparseGraphTransformerModel</th>\n",
       "      <td>0.89</td>\n",
       "      <td>0.86</td>\n",
       "      <td>0.88</td>\n",
       "    </tr>\n",
       "    <tr>\n",
       "      <th>DenseGraphTransformerModel</th>\n",
       "      <td>0.89</td>\n",
       "      <td>0.85</td>\n",
       "      <td>0.87</td>\n",
       "    </tr>\n",
       "    <tr>\n",
       "      <th>DenseGraphTransformerModel_V2</th>\n",
       "      <td>0.54</td>\n",
       "      <td>0.53</td>\n",
       "      <td>0.54</td>\n",
       "    </tr>\n",
       "  </tbody>\n",
       "</table>\n",
       "</div>"
      ]
     },
     "execution_count": 39,
     "metadata": {},
     "output_type": "execute_result"
    }
   ],
   "execution_count": 39
  },
  {
   "metadata": {
    "ExecuteTime": {
     "end_time": "2025-04-28T03:56:56.068294Z",
     "start_time": "2025-04-28T03:56:56.062033Z"
    }
   },
   "cell_type": "code",
   "source": [
    "all_stats_df2 = pd.DataFrame(accuracy_statistics2).T.round(2)\n",
    "all_stats_df2"
   ],
   "outputs": [
    {
     "data": {
      "text/plain": [
       "                               train_f1  val_f1  test_f1\n",
       "GCN                                0.86    0.81     0.84\n",
       "SparseGraphTransformerModel        0.92    0.88     0.90\n",
       "DenseGraphTransformerModel         0.92    0.89     0.91\n",
       "DenseGraphTransformerModel_V2      0.55    0.53     0.54"
      ],
      "text/html": [
       "<div>\n",
       "<style scoped>\n",
       "    .dataframe tbody tr th:only-of-type {\n",
       "        vertical-align: middle;\n",
       "    }\n",
       "\n",
       "    .dataframe tbody tr th {\n",
       "        vertical-align: top;\n",
       "    }\n",
       "\n",
       "    .dataframe thead th {\n",
       "        text-align: right;\n",
       "    }\n",
       "</style>\n",
       "<table border=\"1\" class=\"dataframe\">\n",
       "  <thead>\n",
       "    <tr style=\"text-align: right;\">\n",
       "      <th></th>\n",
       "      <th>train_f1</th>\n",
       "      <th>val_f1</th>\n",
       "      <th>test_f1</th>\n",
       "    </tr>\n",
       "  </thead>\n",
       "  <tbody>\n",
       "    <tr>\n",
       "      <th>GCN</th>\n",
       "      <td>0.86</td>\n",
       "      <td>0.81</td>\n",
       "      <td>0.84</td>\n",
       "    </tr>\n",
       "    <tr>\n",
       "      <th>SparseGraphTransformerModel</th>\n",
       "      <td>0.92</td>\n",
       "      <td>0.88</td>\n",
       "      <td>0.90</td>\n",
       "    </tr>\n",
       "    <tr>\n",
       "      <th>DenseGraphTransformerModel</th>\n",
       "      <td>0.92</td>\n",
       "      <td>0.89</td>\n",
       "      <td>0.91</td>\n",
       "    </tr>\n",
       "    <tr>\n",
       "      <th>DenseGraphTransformerModel_V2</th>\n",
       "      <td>0.55</td>\n",
       "      <td>0.53</td>\n",
       "      <td>0.54</td>\n",
       "    </tr>\n",
       "  </tbody>\n",
       "</table>\n",
       "</div>"
      ]
     },
     "execution_count": 40,
     "metadata": {},
     "output_type": "execute_result"
    }
   ],
   "execution_count": 40
  },
  {
   "metadata": {},
   "cell_type": "markdown",
   "source": "## Create Attention Graphs"
  },
  {
   "metadata": {
    "ExecuteTime": {
     "end_time": "2025-04-28T04:17:07.516814Z",
     "start_time": "2025-04-28T04:17:07.512775Z"
    }
   },
   "cell_type": "code",
   "source": [
    "def create_graph_from_attention(attention_matrix, threshold):\n",
    "    \"\"\"Creates a directed graph from an attention matrix.\"\"\"\n",
    "    attention_matrix = attention_matrix.numpy() \n",
    "    \n",
    "    # mask out weights below the threshold\n",
    "    attention_matrix = attention_matrix * (attention_matrix > threshold)\n",
    "    \n",
    "    G = nx.from_numpy_array(attention_matrix, create_using=nx.DiGraph())\n",
    "    \n",
    "    return G\n",
    "\n",
    "def get_threshold(attention_matrix, model_name=None):\n",
    "    \"\"\"Returns threshold using different percentiles based on model.\"\"\"\n",
    "    attn_values = attention_matrix.flatten().cpu().numpy()\n",
    "\n",
    "    # percentile = 99.5 if model_name == \"dt2_avg\" else 90\n",
    "    percentile_threshold = np.percentile(attn_values, 99.5)\n",
    "    mean_threshold = attn_values.mean() + 1.5 * attn_values.std()\n",
    "\n",
    "    return max(percentile_threshold, mean_threshold)\n"
   ],
   "outputs": [],
   "execution_count": 60
  },
  {
   "metadata": {
    "ExecuteTime": {
     "end_time": "2025-04-28T04:36:29.476860Z",
     "start_time": "2025-04-28T04:36:29.472361Z"
    }
   },
   "cell_type": "code",
   "source": [
    "from torch_geometric.utils import to_networkx\n",
    "\n",
    "def generate_attention_graphs(gnns, dataloader, device):\n",
    "    \n",
    "    graphs = {}\n",
    "    \n",
    "    for model_name, model in gnns.items():\n",
    "        graphs[model_name] = {}\n",
    "        model.save_attn = True\n",
    "        model = model.to(device)\n",
    "\n",
    "        for idx, g in enumerate(dataloader):\n",
    "            g = g.to(device)\n",
    "            \n",
    "            model.eval()\n",
    "            with torch.no_grad():\n",
    "                # Make prediction to save attention weights\n",
    "                if model_name == 'SparseGraphTransformerModel':\n",
    "                    model(g.x, g.dense_adj)\n",
    "                else:\n",
    "                    model(g.x, g.pos_enc, g.dense_sp_matrix)\n",
    "\n",
    "            # Retrieve and aggregate attention matrices\n",
    "            attn_weights = model.attn_weights_list\n",
    "            attn_graph = attn_weights[0]\n",
    "\n",
    "            for attn in attn_weights[1:]:\n",
    "                attn_graph = attn_graph @ attn  # matrix multiplication across layers\n",
    "\n",
    "            attn_graph = attn_graph.cpu()\n",
    "\n",
    "            # Threshold and create graph\n",
    "            threshold = get_threshold(attn_graph)\n",
    "            attn_graph = create_graph_from_attention(attn_graph, threshold)\n",
    "\n",
    "            # Convert original PyG graph to NetworkX graph\n",
    "            og_graph = to_networkx(g, to_undirected=False)\n",
    "\n",
    "            graphs[model_name][idx] = {\n",
    "                \"original_graph\": og_graph,\n",
    "                \"attention_graph\": attn_graph\n",
    "            }\n",
    "\n",
    "    return graphs"
   ],
   "outputs": [],
   "execution_count": 106
  },
  {
   "metadata": {
    "ExecuteTime": {
     "end_time": "2025-04-28T04:36:30.692496Z",
     "start_time": "2025-04-28T04:36:30.689224Z"
    }
   },
   "cell_type": "code",
   "source": [
    "from torch.utils.data import ConcatDataset\n",
    "\n",
    "combined_data = ConcatDataset([train.dataset, val.dataset, test.dataset])\n",
    "combined_loader = DataLoader(combined_data, batch_size=1, shuffle=False)\n",
    "\n",
    "device = torch.device('cuda' if torch.cuda.is_available() else 'cpu')"
   ],
   "outputs": [],
   "execution_count": 107
  },
  {
   "metadata": {
    "ExecuteTime": {
     "end_time": "2025-04-28T04:37:02.955936Z",
     "start_time": "2025-04-28T04:36:31.510813Z"
    }
   },
   "cell_type": "code",
   "source": "graphs_44 = generate_attention_graphs(models, combined_loader, device)",
   "outputs": [],
   "execution_count": 108
  },
  {
   "metadata": {
    "ExecuteTime": {
     "end_time": "2025-04-28T04:37:48.590835Z",
     "start_time": "2025-04-28T04:37:13.312678Z"
    }
   },
   "cell_type": "code",
   "source": "graphs_38 = generate_attention_graphs(models2, combined_loader, device)",
   "outputs": [],
   "execution_count": 110
  },
  {
   "metadata": {},
   "cell_type": "markdown",
   "source": "# Analysis\n"
  },
  {
   "metadata": {
    "ExecuteTime": {
     "end_time": "2025-04-28T04:05:04.862424Z",
     "start_time": "2025-04-28T04:05:04.855876Z"
    }
   },
   "cell_type": "code",
   "source": [
    "from scipy.stats import spearmanr\n",
    "\n",
    "def compute_metrics(G):\n",
    "    return pd.DataFrame.from_dict({\n",
    "        'degree': nx.degree_centrality(G),\n",
    "        'betweenness': nx.betweenness_centrality(G, normalized=True),\n",
    "        'closeness': nx.closeness_centrality(G),\n",
    "        'eigenvector': nx.eigenvector_centrality(G, max_iter=500, tol=1e-02),\n",
    "        'clustering': nx.clustering(G),\n",
    "        'pagerank': nx.pagerank(G, alpha=0.85)\n",
    "    })\n",
    "\n",
    "def compute_cross_metric_correlation(metrics1, metrics2):\n",
    "    metrics1 = pd.DataFrame(metrics1)\n",
    "    metrics2 = pd.DataFrame(metrics2)\n",
    "    \n",
    "    result = pd.DataFrame(index=metrics1.columns, columns=metrics2.columns)\n",
    "    \n",
    "    for col1 in metrics1.columns:\n",
    "        for col2 in metrics2.columns:\n",
    "            corr, _ = spearmanr(metrics1[col1], metrics2[col2])\n",
    "            result.loc[col1, col2] = corr\n",
    "\n",
    "    return result.astype(float)\n",
    "def corr_heatmap(corr_df, title):\n",
    "    plt.figure(figsize=(10, 7))\n",
    "    sns.heatmap(corr_df, annot=True, fmt=\".2f\", vmin=-1, vmax=1, cmap='coolwarm', cbar=True)\n",
    "    plt.title(title)\n",
    "    plt.xticks(rotation=45, ha='right')\n",
    "    plt.yticks(rotation=0)\n",
    "    plt.tight_layout()\n",
    "\n",
    "def topk_overlap(metrics1, metrics2, label1, label2, out_path):\n",
    "    def get_top_k_nodes(metric_dict, k=100):\n",
    "        return {\n",
    "            metric: set(sorted(metric_dict[metric].items(), key=lambda x: x[1], reverse=True)[:k])\n",
    "            for metric in metric_dict\n",
    "        }\n",
    "\n",
    "    topk_1 = get_top_k_nodes(metrics1)\n",
    "    topk_2 = get_top_k_nodes(metrics2)\n",
    "\n",
    "    with open(out_path, \"w\") as f:\n",
    "        f.write(f\"Top-100 Node Overlap Between {label1} and {label2}\\n\")\n",
    "        for metric in metrics1:\n",
    "            nodes_1 = {node for node, _ in topk_1[metric]}\n",
    "            nodes_2 = {node for node, _ in topk_2[metric]}\n",
    "\n"
   ],
   "outputs": [],
   "execution_count": 49
  },
  {
   "metadata": {
    "ExecuteTime": {
     "end_time": "2025-04-28T04:05:05.820453Z",
     "start_time": "2025-04-28T04:05:05.816876Z"
    }
   },
   "cell_type": "code",
   "source": [
    "def analyze_graphs(model_stats, model_name):\n",
    "    total_nodes = 0\n",
    "    corr_df = None\n",
    "    for g_idx, g in tqdm(model_stats.items(), total=len(model_stats)):\n",
    "        og_graph = g['original_graph']\n",
    "        attn_graph = g['attention_graph']\n",
    "        \n",
    "        num_nodes = og_graph.number_of_nodes()\n",
    "        total_nodes += num_nodes\n",
    "        \n",
    "        og_graph_stats = compute_metrics(og_graph)\n",
    "        attn_graph_stats = compute_metrics(attn_graph)\n",
    "        \n",
    "        corr = compute_cross_metric_correlation(og_graph_stats, attn_graph_stats)\n",
    "        corr *= num_nodes\n",
    "        if corr_df is None:\n",
    "            corr_df = corr\n",
    "        else:\n",
    "            corr_df += corr\n",
    "        \n",
    "    corr_df /= total_nodes \n",
    "    \n",
    "    corr_heatmap(corr_df, title=model_name)"
   ],
   "outputs": [],
   "execution_count": 50
  },
  {
   "metadata": {},
   "cell_type": "markdown",
   "source": "## 4 Layers, 4 Heads Analysis"
  },
  {
   "metadata": {},
   "cell_type": "code",
   "outputs": [],
   "execution_count": null,
   "source": [
    "sparse = list(graphs_44.keys())[0]\n",
    "analyze_graphs(graphs_44[sparse], f\"{sparse}_4x4\")"
   ]
  },
  {
   "metadata": {},
   "cell_type": "code",
   "outputs": [],
   "execution_count": null,
   "source": [
    "dlb = list(graphs_44.keys())[0]\n",
    "analyze_graphs(graphs_44[dlb], f\"{dlb}_4x4\")"
   ]
  },
  {
   "metadata": {},
   "cell_type": "markdown",
   "source": "## 3 Layers, 8 Heads Analysis"
  },
  {
   "metadata": {
    "ExecuteTime": {
     "end_time": "2025-04-27T20:14:53.646393Z",
     "start_time": "2025-04-27T19:59:34.604665Z"
    }
   },
   "cell_type": "code",
   "source": [
    "sparse2 = list(graphs_38.keys())[0]\n",
    "analyze_graphs(graphs_38[sparse2], f\"{sparse2}_3x8\")"
   ],
   "outputs": [
    {
     "name": "stderr",
     "output_type": "stream",
     "text": [
      "100%|██████████| 24/24 [15:18<00:00, 38.27s/it]\n"
     ]
    },
    {
     "data": {
      "text/plain": [
       "<Figure size 1000x700 with 2 Axes>"
      ],
      "image/png": "[encoded data removed]"
     },
     "metadata": {},
     "output_type": "display_data"
    }
   ],
   "execution_count": 37
  },
  {
   "metadata": {
    "ExecuteTime": {
     "end_time": "2025-04-28T05:00:15.527316Z",
     "start_time": "2025-04-28T04:42:41.089414Z"
    }
   },
   "cell_type": "code",
   "source": [
    "dlb2 = list(graphs_38.keys())[1]\n",
    "analyze_graphs(graphs_38[dlb2], f\"{dlb2}\")"
   ],
   "outputs": [
    {
     "name": "stderr",
     "output_type": "stream",
     "text": [
      "100%|██████████| 24/24 [17:34<00:00, 43.93s/it]\n"
     ]
    },
    {
     "data": {
      "text/plain": [
       "<Figure size 1000x700 with 2 Axes>"
      ],
      "image/png": "[encoded data removed]"
     },
     "metadata": {},
     "output_type": "display_data"
    }
   ],
   "execution_count": 114
  },
  {
   "metadata": {},
   "cell_type": "code",
   "outputs": [],
   "execution_count": null,
   "source": [
    "# dl2 = list(graphs_38.keys())[2]\n",
    "# analyze_graphs(graphs_38[dl2], f\"{dl2}\")"
   ]
  },
  {
   "metadata": {},
   "cell_type": "markdown",
   "source": "## Local Graph Analysis/Comparisons"
  },
  {
   "metadata": {
    "ExecuteTime": {
     "end_time": "2025-04-28T17:33:39.843770Z",
     "start_time": "2025-04-28T17:33:39.824794Z"
    }
   },
   "cell_type": "code",
   "source": "list(test)",
   "outputs": [
    {
     "data": {
      "text/plain": [
       "[DataBatch(x=[3224, 50], edge_index=[2, 100648], y=[3224, 121], dense_sp_matrix=[3224, 3224], dense_adj=[3224, 3224], pos_enc=[3224, 16], batch=[3224], ptr=[2]),\n",
       " DataBatch(x=[2300, 50], edge_index=[2, 61328], y=[2300, 121], dense_sp_matrix=[2300, 2300], dense_adj=[2300, 2300], pos_enc=[2300, 16], batch=[2300], ptr=[2])]"
      ]
     },
     "execution_count": 136,
     "metadata": {},
     "output_type": "execute_result"
    }
   ],
   "execution_count": 136
  },
  {
   "metadata": {
    "ExecuteTime": {
     "end_time": "2025-04-28T17:22:04.672368Z",
     "start_time": "2025-04-28T17:22:04.668369Z"
    }
   },
   "cell_type": "code",
   "source": [
    "local_38 = {dlb2: models2[dlb2]}\n",
    "local_38"
   ],
   "outputs": [
    {
     "data": {
      "text/plain": [
       "{'DenseGraphTransformerModel': DenseGraphTransformerModel(\n",
       "   (lin_in): Linear(in_features=50, out_features=512, bias=True)\n",
       "   (lin_pos_enc): Linear(in_features=16, out_features=512, bias=True)\n",
       "   (lin_out): Linear(in_features=512, out_features=121, bias=True)\n",
       "   (layers): ModuleList(\n",
       "     (0-2): 3 x MultiheadAttention(\n",
       "       (out_proj): NonDynamicallyQuantizableLinear(in_features=512, out_features=512, bias=True)\n",
       "     )\n",
       "   )\n",
       " )}"
      ]
     },
     "execution_count": 124,
     "metadata": {},
     "output_type": "execute_result"
    }
   ],
   "execution_count": 124
  },
  {
   "metadata": {
    "ExecuteTime": {
     "end_time": "2025-04-28T17:22:08.420192Z",
     "start_time": "2025-04-28T17:22:07.036979Z"
    }
   },
   "cell_type": "code",
   "source": [
    "# val contains the two largest graphs in \n",
    "local_graphs_38 = generate_attention_graphs(local_38, test, device)"
   ],
   "outputs": [],
   "execution_count": 125
  },
  {
   "metadata": {
    "ExecuteTime": {
     "end_time": "2025-04-28T17:25:05.816175Z",
     "start_time": "2025-04-28T17:25:05.814142Z"
    }
   },
   "cell_type": "code",
   "source": "local_graphs_38 = local_graphs_38[dlb2]",
   "outputs": [],
   "execution_count": 130
  },
  {
   "metadata": {
    "ExecuteTime": {
     "end_time": "2025-04-28T17:41:21.415981Z",
     "start_time": "2025-04-28T17:39:59.973504Z"
    }
   },
   "cell_type": "code",
   "source": "analyze_graphs({k: v for i, (k, v) in enumerate(local_graphs_38.items()) if i == 0}, f\"DLB_38H1_graph_Larger\")",
   "outputs": [
    {
     "name": "stderr",
     "output_type": "stream",
     "text": [
      "100%|██████████| 1/1 [01:21<00:00, 81.30s/it]\n"
     ]
    },
    {
     "data": {
      "text/plain": [
       "<Figure size 1000x700 with 2 Axes>"
      ],
      "image/png": "[encoded data removed]"
     },
     "metadata": {},
     "output_type": "display_data"
    }
   ],
   "execution_count": 137
  },
  {
   "metadata": {
    "ExecuteTime": {
     "end_time": "2025-04-28T17:42:41.662955Z",
     "start_time": "2025-04-28T17:41:21.416986Z"
    }
   },
   "cell_type": "code",
   "source": "analyze_graphs({k: v for i, (k, v) in enumerate(local_graphs_38.items()) if i == 1}, f\"DLB_38H1_graph_Smaller\")",
   "outputs": [
    {
     "name": "stderr",
     "output_type": "stream",
     "text": [
      "100%|██████████| 1/1 [01:20<00:00, 80.11s/it]\n"
     ]
    },
    {
     "data": {
      "text/plain": [
       "<Figure size 1000x700 with 2 Axes>"
      ],
      "image/png": "[encoded data removed]"
     },
     "metadata": {},
     "output_type": "display_data"
    }
   ],
   "execution_count": 138
  },
  {
   "metadata": {},
   "cell_type": "code",
   "outputs": [],
   "execution_count": null,
   "source": ""
  }
 ],
 "metadata": {
  "accelerator": "GPU",
  "colab": {
   "authorship_tag": "ABX9TyM7QF060g8m/oZks22EC8jM",
   "collapsed_sections": [
    "Fxj1ye0Y1ZwC",
    "sWeKuQTt1k_M",
    "2hMUb2yK1pEB",
    "ZXuPgGbGa2Nd",
    "670dtom5sl10"
   ],
   "gpuType": "A100",
   "machine_shape": "hm",
   "mount_file_id": "1nYy2OQQ4os8qAJRaYQ2kwsbNjzw3zFyx",
   "provenance": [],
   "toc_visible": true
  },
  "kernelspec": {
   "display_name": "Python 3 (ipykernel)",
   "name": "python3",
   "language": "python"
  },
  "language_info": {
   "name": "python"
  }
 },
 "nbformat": 4,
 "nbformat_minor": 0
}
